{
 "cells": [
  {
   "cell_type": "markdown",
   "metadata": {},
   "source": [
    "# Challenge\n",
    "\n",
    "Write a scraper that will:\n",
    "\n",
    "- Return specific pieces of information (rather than just downloading a whole page)\n",
    "- Iterate over multiple pages/queries\n",
    "- Save the data to your computer\n",
    "\n",
    "Once you have your data, compute some statistical summaries and/or visualizations that give you some new insights into your scraping topic of interest. Write up a report from scraping code to summary.\n",
    "\n",
    "Original link: http://publicpay.ca.gov/Reports/RawExport.aspx\n",
    "\n",
    "Suggested from scraping task examples: https://github.com/stanfordjournalism/search-script-scrape#the-tasks"
   ]
  },
  {
   "cell_type": "code",
   "execution_count": null,
   "metadata": {
    "collapsed": true
   },
   "outputs": [],
   "source": [
    "import scrapy\n",
    "from scrapy.crawler import CrawlerProcess\n",
    "\n",
    "import json\n",
    "from pprint import pprint\n",
    "\n",
    "from io import BytesIO\n",
    "from urllib.request import urlopen\n",
    "from zipfile import ZipFile\n",
    "\n",
    "import matplotlib.pyplot as plt\n",
    "import operator"
   ]
  },
  {
   "cell_type": "markdown",
   "metadata": {},
   "source": [
    "I have chosen a dataset involving compensation of government workers in California. I will use scrapy to crawl the page of available downloads from each year and selectively download all government payout spreadsheets from the year 2010 for cost analysis."
   ]
  },
  {
   "cell_type": "markdown",
   "metadata": {},
   "source": [
    "Create the spider, define source URL and search criteria based on information gathered from \"Inspect\" function on webpage."
   ]
  },
  {
   "cell_type": "code",
   "execution_count": 1,
   "metadata": {
    "collapsed": false
   },
   "outputs": [
    {
     "name": "stderr",
     "output_type": "stream",
     "text": [
      ":0: UserWarning: You do not have a working installation of the service_identity module: 'cannot import name 'opentype''.  Please install it from <https://pypi.python.org/pypi/service_identity> and make sure all of its dependencies are satisfied.  Without the service_identity module, Twisted can perform only rudimentary TLS client hostname verification.  Many valid certificate/hostname mappings may be rejected.\n"
     ]
    },
    {
     "name": "stdout",
     "output_type": "stream",
     "text": [
      "Success!\n"
     ]
    }
   ],
   "source": [
    "class CaliforniaWagesSpider(scrapy.Spider):\n",
    "    name = \"CaliforniaWages\"\n",
    "\n",
    "    start_urls = [\n",
    "        'http://publicpay.ca.gov/Reports/RawExport.aspx',\n",
    "    ]\n",
    "    \n",
    "    def parse(self, response):\n",
    "        for link in response.xpath(\"//a[starts-with(@href, '/RawExport/2010')]\"):\n",
    "            yield {'url': link.xpath('@href').extract_first()}\n",
    "\n",
    "process = CrawlerProcess({\n",
    "    'FEED_FORMAT': 'json',\n",
    "    'FEED_URI': 'california_wage_links.json',\n",
    "    'LOG_ENABLED': False           # Turn off logging.\n",
    "})\n",
    "\n",
    "process.crawl(CaliforniaWagesSpider)\n",
    "process.start()\n",
    "print('Success!')"
   ]
  },
  {
   "cell_type": "markdown",
   "metadata": {},
   "source": [
    "Confirm that URLs have been exported to json file in local directory."
   ]
  },
  {
   "cell_type": "code",
   "execution_count": 8,
   "metadata": {
    "collapsed": false
   },
   "outputs": [
    {
     "name": "stdout",
     "output_type": "stream",
     "text": [
      "[{'url': '/RawExport/2010_CaliforniaStateUniversity.zip'},\n",
      " {'url': '/RawExport/2010_City.zip'},\n",
      " {'url': '/RawExport/2010_County.zip'},\n",
      " {'url': '/RawExport/2010_SpecialDistrict.zip'},\n",
      " {'url': '/RawExport/2010_StateDepartment.zip'}]\n"
     ]
    }
   ],
   "source": [
    "with open('california_wage_links.json') as data_file:\n",
    "    cali_wage_json = json.load(data_file)\n",
    "pprint(cali_wage_json)"
   ]
  },
  {
   "cell_type": "markdown",
   "metadata": {},
   "source": [
    "Extract only the URLs from the json output file."
   ]
  },
  {
   "cell_type": "code",
   "execution_count": 68,
   "metadata": {
    "collapsed": false
   },
   "outputs": [
    {
     "name": "stdout",
     "output_type": "stream",
     "text": [
      "['http://publicpay.ca.gov//RawExport/2010_CaliforniaStateUniversity.zip', 'http://publicpay.ca.gov//RawExport/2010_City.zip', 'http://publicpay.ca.gov//RawExport/2010_County.zip', 'http://publicpay.ca.gov//RawExport/2010_SpecialDistrict.zip', 'http://publicpay.ca.gov//RawExport/2010_StateDepartment.zip']\n"
     ]
    }
   ],
   "source": [
    "url_list = []\n",
    "for dict in cali_wage_json:\n",
    "    url_list.append(dict['url'])\n",
    "\n",
    "full_url_list = ['http://publicpay.ca.gov/' + url for url in url_list] \n",
    "print(full_url_list)"
   ]
  },
  {
   "cell_type": "markdown",
   "metadata": {},
   "source": [
    "Iterate through all the URLs and use ZipFile to extract zipped CSVs."
   ]
  },
  {
   "cell_type": "code",
   "execution_count": 70,
   "metadata": {
    "collapsed": false
   },
   "outputs": [
    {
     "name": "stdout",
     "output_type": "stream",
     "text": [
      "(95963, 28)\n",
      "(316626, 28)\n",
      "(374773, 28)\n",
      "(160388, 28)\n",
      "(253634, 28)\n",
      "   Year                  Entity Type      Entity Group          Entity Name  \\\n",
      "0  2010  California State University  Higher Education  Chancellor's Office   \n",
      "1  2010  California State University  Higher Education  Chancellor's Office   \n",
      "2  2010  California State University  Higher Education  Chancellor's Office   \n",
      "3  2010  California State University  Higher Education  Chancellor's Office   \n",
      "4  2010  California State University  Higher Education  Chancellor's Office   \n",
      "\n",
      "  Department / Subdivision               Position  Elected Official  Judicial  \\\n",
      "0                      NaN  Accountant I, Range 1               NaN       NaN   \n",
      "1                      NaN  Accountant I, Range 1               NaN       NaN   \n",
      "2                      NaN  Accountant I, Range 1               NaN       NaN   \n",
      "3                      NaN  Accountant I, Range 1               NaN       NaN   \n",
      "4                      NaN  Accountant I, Range 1               NaN       NaN   \n",
      "\n",
      "  Other Positions  Min Position Salary             ...               \\\n",
      "0             NaN              43392.0             ...                \n",
      "1             NaN              43392.0             ...                \n",
      "2             NaN              43392.0             ...                \n",
      "3             NaN              43392.0             ...                \n",
      "4             NaN              43392.0             ...                \n",
      "\n",
      "   Employees Retirement Cost Covered  Deferred Compensation Plan  \\\n",
      "0                                0.0                         0.0   \n",
      "1                                0.0                         0.0   \n",
      "2                                0.0                         0.0   \n",
      "3                                0.0                         0.0   \n",
      "4                                0.0                         0.0   \n",
      "\n",
      "   Health Dental Vision  Total Retirement and Health Cost  Pension Formula  \\\n",
      "0               6482.16                          14798.44       2.00% @ 55   \n",
      "1              16470.84                          24556.27       2.00% @ 55   \n",
      "2              16470.84                          25325.06       2.00% @ 55   \n",
      "3               6551.16                          14752.03       2.00% @ 55   \n",
      "4              16018.80                          23644.67       2.00% @ 55   \n",
      "\n",
      "                     Entity URL  Entity Population  Last Updated  \\\n",
      "0  http://www.calstate.edu/HRS/                NaN    07/01/2014   \n",
      "1  http://www.calstate.edu/HRS/                NaN    07/01/2014   \n",
      "2  http://www.calstate.edu/HRS/                NaN    07/01/2014   \n",
      "3  http://www.calstate.edu/HRS/                NaN    07/01/2014   \n",
      "4  http://www.calstate.edu/HRS/                NaN    07/01/2014   \n",
      "\n",
      "   Entity County  Special District Activities  \n",
      "0    Los Angeles                          NaN  \n",
      "1    Los Angeles                          NaN  \n",
      "2    Los Angeles                          NaN  \n",
      "3    Los Angeles                          NaN  \n",
      "4    Los Angeles                          NaN  \n",
      "\n",
      "[5 rows x 28 columns]\n"
     ]
    }
   ],
   "source": [
    "wages_df = pd.DataFrame()\n",
    "\n",
    "for zipurl in full_url_list:\n",
    "    with urlopen(zipurl) as zipresp:\n",
    "        with ZipFile(BytesIO(zipresp.read())) as zfile:\n",
    "            zfile.extractall('/Users/Leah/AnacondaProjects/Unit 5: Other Topics in Data Science')\n",
    "            for filename in zfile.namelist():\n",
    "                temp_df = pd.read_csv(filename, encoding='latin_1')\n",
    "                print(temp_df.shape)\n",
    "                wages_df = wages_df.append(temp_df,ignore_index=True)\n",
    "            \n",
    "print(wages_df.head())"
   ]
  },
  {
   "cell_type": "markdown",
   "metadata": {},
   "source": [
    "Let's take a look at how much data there is and what information is available to us."
   ]
  },
  {
   "cell_type": "code",
   "execution_count": 73,
   "metadata": {
    "collapsed": false
   },
   "outputs": [
    {
     "name": "stdout",
     "output_type": "stream",
     "text": [
      "(1201384, 28)\n",
      "Index(['Year', 'Entity Type', 'Entity Group', 'Entity Name',\n",
      "       'Department / Subdivision', 'Position', 'Elected Official', 'Judicial',\n",
      "       'Other Positions', 'Min Position Salary', 'Max Position Salary',\n",
      "       'Reported Base Wage', 'Regular Pay', 'Overtime Pay', 'Lump-Sum Pay',\n",
      "       'Other Pay', 'Total Wages', 'Defined Benefit Plan Contribution',\n",
      "       'Employees Retirement Cost Covered', 'Deferred Compensation Plan',\n",
      "       'Health Dental Vision', 'Total Retirement and Health Cost',\n",
      "       'Pension Formula', 'Entity URL', 'Entity Population', 'Last Updated',\n",
      "       'Entity County', 'Special District Activities'],\n",
      "      dtype='object')\n"
     ]
    }
   ],
   "source": [
    "print(wages_df.shape)\n",
    "print(wages_df.columns)"
   ]
  },
  {
   "cell_type": "markdown",
   "metadata": {},
   "source": [
    "I would like to see how much money is spent on salaries, as well as a benefits such as healthcare and retirement savings. I will create a histogram for each category and print out the maximum and minimum for each category."
   ]
  },
  {
   "cell_type": "code",
   "execution_count": 94,
   "metadata": {
    "collapsed": false
   },
   "outputs": [
    {
     "data": {
      "image/png": "[encoded data removed]",
      "text/plain": [
       "<matplotlib.figure.Figure at 0x11d09b4e0>"
      ]
     },
     "metadata": {},
     "output_type": "display_data"
    },
    {
     "name": "stdout",
     "output_type": "stream",
     "text": [
      "Minimum Total Wages: -8460.05\n",
      "Maximum Total Wages: 1059529.0\n"
     ]
    },
    {
     "data": {
      "image/png": "[encoded data removed]",
      "text/plain": [
       "<matplotlib.figure.Figure at 0x11ca7e470>"
      ]
     },
     "metadata": {},
     "output_type": "display_data"
    },
    {
     "name": "stdout",
     "output_type": "stream",
     "text": [
      "Minimum Health Dental Vision: -97569.55\n",
      "Maximum Health Dental Vision: 199628.0\n"
     ]
    },
    {
     "data": {
      "image/png": "[encoded data removed]",
      "text/plain": [
       "<matplotlib.figure.Figure at 0x11ca7e438>"
      ]
     },
     "metadata": {},
     "output_type": "display_data"
    },
    {
     "name": "stdout",
     "output_type": "stream",
     "text": [
      "Minimum Total Retirement and Health Cost: -82517.15\n",
      "Maximum Total Retirement and Health Cost: 205507.0\n"
     ]
    }
   ],
   "source": [
    "topics_of_interest = ['Total Wages','Health Dental Vision','Total Retirement and Health Cost']\n",
    "\n",
    "for topic in topics_of_interest:\n",
    "    column = wages_df[topic].dropna()\n",
    "    plt.hist(column)\n",
    "    plt.title(f'California {topic} Distribution')\n",
    "    plt.show()\n",
    "    \n",
    "    print(f'Minimum {topic}: {column.min()}')\n",
    "    print(f'Maximum {topic}: {column.max()}')"
   ]
  },
  {
   "cell_type": "markdown",
   "metadata": {},
   "source": [
    "Interesting...the minimum for each category is an extreme negative value. What could this suggest? It could be a clerical error, or it could signify payment from the employee. Let's investigate the prevalence of these negative values."
   ]
  },
  {
   "cell_type": "code",
   "execution_count": 143,
   "metadata": {
    "collapsed": false
   },
   "outputs": [
    {
     "name": "stdout",
     "output_type": "stream",
     "text": [
      "(3, 28)\n",
      "(437, 28)\n",
      "(385, 28)\n"
     ]
    }
   ],
   "source": [
    "print(wages_df.loc[wages_df['Total Wages'] < 0].shape)\n",
    "print(wages_df.loc[wages_df['Health Dental Vision'] < 0].shape)\n",
    "print(wages_df.loc[wages_df['Total Retirement and Health Cost'] < 0].shape)"
   ]
  },
  {
   "cell_type": "markdown",
   "metadata": {},
   "source": [
    "There are far too many negative values in 'Health Dental Vision' and 'Total Retirement and Health Cost' to attribute this to a clerical error. In a professional scenario, I would reach out to the author of this data to understand where the negative values are coming from. However, in the interest of time I will skip this and instead drop all rows where negative values are observed."
   ]
  },
  {
   "cell_type": "code",
   "execution_count": 149,
   "metadata": {
    "collapsed": false
   },
   "outputs": [
    {
     "name": "stdout",
     "output_type": "stream",
     "text": [
      "(1201384, 28)\n",
      "(881102, 28)\n"
     ]
    }
   ],
   "source": [
    "wages_df_positive = wages_df.loc[wages_df['Total Wages'] > 0]\n",
    "wages_df_positive = wages_df_positive.loc[wages_df_positive['Health Dental Vision'] > 0]\n",
    "wages_df_positive = wages_df_positive.loc[wages_df_positive['Total Retirement and Health Cost'] > 0]\n",
    "\n",
    "print(wages_df.shape)\n",
    "print(wages_df_positive.shape)"
   ]
  },
  {
   "cell_type": "code",
   "execution_count": 150,
   "metadata": {
    "collapsed": false
   },
   "outputs": [
    {
     "data": {
      "image/png": "[encoded data removed]",
      "text/plain": [
       "<matplotlib.figure.Figure at 0x11d0ac080>"
      ]
     },
     "metadata": {},
     "output_type": "display_data"
    },
    {
     "name": "stdout",
     "output_type": "stream",
     "text": [
      "Minimum Total Wages: 1.0\n",
      "Maximum Total Wages: 1059529.0\n"
     ]
    },
    {
     "data": {
      "image/png": "[encoded data removed]",
      "text/plain": [
       "<matplotlib.figure.Figure at 0x11d675160>"
      ]
     },
     "metadata": {},
     "output_type": "display_data"
    },
    {
     "name": "stdout",
     "output_type": "stream",
     "text": [
      "Minimum Health Dental Vision: 0.95\n",
      "Maximum Health Dental Vision: 199628.0\n"
     ]
    },
    {
     "data": {
      "image/png": "[encoded data removed]",
      "text/plain": [
       "<matplotlib.figure.Figure at 0x11d534d30>"
      ]
     },
     "metadata": {},
     "output_type": "display_data"
    },
    {
     "name": "stdout",
     "output_type": "stream",
     "text": [
      "Minimum Total Retirement and Health Cost: 1.0\n",
      "Maximum Total Retirement and Health Cost: 205507.0\n"
     ]
    }
   ],
   "source": [
    "for topic in topics_of_interest:\n",
    "    column = wages_df_positive[topic].dropna()\n",
    "    plt.hist(column)\n",
    "    plt.title(f'California {topic} Distribution')\n",
    "    plt.show()\n",
    "    \n",
    "    print(f'Minimum {topic}: {column.min()}')\n",
    "    print(f'Maximum {topic}: {column.max()}')"
   ]
  },
  {
   "cell_type": "markdown",
   "metadata": {},
   "source": [
    "Setting a minimum on our data above 0 does not really help because we are still seeing wages at less than a dollar, which is not a reasonable number. While this will not affect the maximum, it will skew the average. In this situation, I would reach out to the author of the data for clarity. <br>\n",
    "\n",
    "Continuing with our analysis, we can see that there is not a wide distribution in costs. The vast majority of people fall within the first bin, with fractionally small workers populating the upper bins. This means there is a large disparity betweent the top-earning workers and the rest of the population. The maximum cost of health care for any California worker was around $200,000, and the maximum cost of health care + retirement was around $205,000. It is possibile that health care costs much more than retirement. <br>\n",
    "\n",
    "Now, let's take a look at the maximum wages per county."
   ]
  },
  {
   "cell_type": "code",
   "execution_count": 152,
   "metadata": {
    "collapsed": false
   },
   "outputs": [
    {
     "name": "stdout",
     "output_type": "stream",
     "text": [
      "('Modoc', 104130.0) \n",
      "\n",
      "('Del Norte', 120480.0) \n",
      "\n",
      "('Sierra', 134157.0) \n",
      "\n",
      "('Mariposa', 143228.0) \n",
      "\n",
      "('Alpine', 147000.0) \n",
      "\n",
      "('Tehama', 164219.0) \n",
      "\n",
      "('Kings', 168009.0) \n",
      "\n",
      "('Tuolumne', 177292.0) \n",
      "\n",
      "('Glenn', 178425.0) \n",
      "\n",
      "('Calaveras', 178848.0) \n",
      "\n",
      "('Lake', 184424.0) \n",
      "\n",
      "('Yuba', 189754.0) \n",
      "\n",
      "('Siskiyou', 206375.0) \n",
      "\n",
      "('Sutter', 206948.0) \n",
      "\n",
      "('Shasta', 210500.0) \n",
      "\n",
      "('Madera', 214744.0) \n",
      "\n",
      "('Lassen', 219207.0) \n",
      "\n",
      "('Colusa', 221279.0) \n",
      "\n",
      "('Amador', 223815.0) \n",
      "\n",
      "('Mendocino', 225953.0) \n",
      "\n",
      "('Yolo', 250831.0) \n",
      "\n",
      "('Napa', 253971.0) \n",
      "\n",
      "('Plumas', 260445.0) \n",
      "\n",
      "('Monterey ', 264462.27000000002) \n",
      "\n",
      "('Mono', 274981.0) \n",
      "\n",
      "('San Benito', 278541.0) \n",
      "\n",
      "('Trinity', 296771.0) \n",
      "\n",
      "('Fresno  ', 298579.27000000002) \n",
      "\n",
      "('Stanislaus', 305261.78999999998) \n",
      "\n",
      "('El Dorado', 321496.0) \n",
      "\n",
      "('Butte', 328326.6299) \n",
      "\n",
      "('Sonoma', 331359.27000000002) \n",
      "\n",
      "('Ventura ', 333507.07000000001) \n",
      "\n",
      "('Inyo', 334055.0) \n",
      "\n",
      "('Merced', 334143.0) \n",
      "\n",
      "('Santa Barbara', 341203.0) \n",
      "\n",
      "('Santa Cruz', 343460.0) \n",
      "\n",
      "('Fresno', 344668.0) \n",
      "\n",
      "('Imperial', 349094.0) \n",
      "\n",
      "('Solano', 352500.0) \n",
      "\n",
      "('Placer', 353843.0) \n",
      "\n",
      "('San Luis Obispo', 356368.06) \n",
      "\n",
      "('Contra Costa', 357099.0) \n",
      "\n",
      "('Humboldt', 363689.0) \n",
      "\n",
      "('Sacramento', 384736.0) \n",
      "\n",
      "('Riverside', 389650.0) \n",
      "\n",
      "('San Mateo', 401275.0) \n",
      "\n",
      "('Nevada', 436809.0) \n",
      "\n",
      "('San Joaquin', 485063.0) \n",
      "\n",
      "('Orange', 571695.0) \n",
      "\n",
      "('Ventura', 618608.0) \n",
      "\n",
      "('San Bernardino', 631241.0) \n",
      "\n",
      "('Kern', 639484.0) \n",
      "\n",
      "('Monterey', 699457.0) \n",
      "\n",
      "('Tulare', 712372.0) \n",
      "\n",
      "('Los Angeles', 765237.0) \n",
      "\n",
      "('Alameda', 912519.0) \n",
      "\n",
      "('Marin', 1002268.0) \n",
      "\n",
      "('San Diego', 1012007.0) \n",
      "\n",
      "('Santa Clara', 1014556.0) \n",
      "\n",
      "('San Francisco', 1059529.0) \n",
      "\n",
      "(nan, nan) \n",
      "\n"
     ]
    }
   ],
   "source": [
    "county_max_wages = {}\n",
    "\n",
    "for county in (wages_df['Entity County'].unique()):\n",
    "    county_wages = wages_df.loc[wages_df['Entity County'] == county]['Total Wages']\n",
    "    county_max_wages[county] = county_wages.max()\n",
    "    \n",
    "sorted_counties = sorted(county_max_wages.items(), key=operator.itemgetter(1))\n",
    "for county in sorted_counties:\n",
    "    print(county,'\\n')"
   ]
  },
  {
   "cell_type": "markdown",
   "metadata": {},
   "source": [
    "Looks like the highest paid government worker is located in San Francisco county, which is booming from the tech industry. Counties that are near San Francisco also boast top paid workers, such as Santa Clara, Marin, and Alameda. The difference between the lowest maximum wage (Modoc County) and the highest (San Francisco) is about ten-fold. Let's check out which county has the highest paid government officials on average."
   ]
  },
  {
   "cell_type": "code",
   "execution_count": 154,
   "metadata": {
    "collapsed": false
   },
   "outputs": [
    {
     "name": "stdout",
     "output_type": "stream",
     "text": [
      "('Del Norte', 37107.18934911243) \n",
      "\n",
      "('Modoc', 39955.906137184116) \n",
      "\n",
      "('Trinity', 42876.931662870156) \n",
      "\n",
      "('Plumas', 43720.903067484665) \n",
      "\n",
      "('Lake', 44756.16189624329) \n",
      "\n",
      "('Siskiyou', 44794.76774193548) \n",
      "\n",
      "('Mariposa', 44946.92730496454) \n",
      "\n",
      "('Glenn', 45108.75297619047) \n",
      "\n",
      "('Madera', 45696.591277258565) \n",
      "\n",
      "('Tehama', 45915.48648648649) \n",
      "\n",
      "('Lassen', 46662.56907216495) \n",
      "\n",
      "('Sierra', 47540.24786324786) \n",
      "\n",
      "('Kings', 47939.68474984931) \n",
      "\n",
      "('Amador', 48084.70754716981) \n",
      "\n",
      "('Humboldt', 48861.23065560105) \n",
      "\n",
      "('Colusa', 48915.53209109731) \n",
      "\n",
      "('Tulare', 49834.367531806616) \n",
      "\n",
      "('Mendocino', 50929.000516528926) \n",
      "\n",
      "('Shasta', 51396.06539873206) \n",
      "\n",
      "('Monterey ', 51425.68974598332) \n",
      "\n",
      "('Tuolumne', 51785.681044267876) \n",
      "\n",
      "('Butte', 51942.7807511008) \n",
      "\n",
      "('Calaveras', 52722.016103059585) \n",
      "\n",
      "('Inyo', 53049.232558139534) \n",
      "\n",
      "('Yuba', 53543.295992714025) \n",
      "\n",
      "('Fresno  ', 54041.726733995776) \n",
      "\n",
      "('Alpine', 54866.19540229885) \n",
      "\n",
      "('Imperial', 55288.74148714385) \n",
      "\n",
      "('Merced', 56026.399663205164) \n",
      "\n",
      "('Fresno', 57155.90441121214) \n",
      "\n",
      "('Ventura ', 57323.31203425779) \n",
      "\n",
      "('Sutter', 58242.58532818533) \n",
      "\n",
      "('Kern', 58720.28311466476) \n",
      "\n",
      "('Stanislaus', 59517.619459344096) \n",
      "\n",
      "('Nevada', 59761.50948509485) \n",
      "\n",
      "('San Bernardino', 61796.63285861986) \n",
      "\n",
      "('Riverside', 62070.357246527055) \n",
      "\n",
      "('Yolo', 62233.46775658492) \n",
      "\n",
      "('San Luis Obispo', 62385.30779551703) \n",
      "\n",
      "('Mono', 62670.007215007216) \n",
      "\n",
      "('El Dorado', 62912.62101449275) \n",
      "\n",
      "('San Diego', 63364.69782834034) \n",
      "\n",
      "('San Benito', 63853.97690086622) \n",
      "\n",
      "('Santa Barbara', 64805.77053509381) \n",
      "\n",
      "('San Joaquin', 66849.72316083913) \n",
      "\n",
      "('Santa Cruz', 67627.84145488459) \n",
      "\n",
      "('Sacramento', 67913.7081945837) \n",
      "\n",
      "('Ventura', 68716.94095238096) \n",
      "\n",
      "('Sonoma', 69384.41259017614) \n",
      "\n",
      "('Placer', 70644.58453473133) \n",
      "\n",
      "('Orange', 72229.89132891345) \n",
      "\n",
      "('Monterey', 72486.93325678197) \n",
      "\n",
      "('Solano', 73291.45991844755) \n",
      "\n",
      "('Napa', 74800.29864724245) \n",
      "\n",
      "('Los Angeles', 75280.03057989545) \n",
      "\n",
      "('Contra Costa', 76768.21927133987) \n",
      "\n",
      "('Alameda', 76805.9630621764) \n",
      "\n",
      "('San Francisco', 78618.09396542836) \n",
      "\n",
      "('Marin', 81347.16117304895) \n",
      "\n",
      "('San Mateo', 83000.90908246656) \n",
      "\n",
      "('Santa Clara', 83977.5449284163) \n",
      "\n",
      "(nan, nan) \n",
      "\n"
     ]
    }
   ],
   "source": [
    "county_avg_wages = {}\n",
    "\n",
    "for county in (wages_df_positive['Entity County'].unique()):\n",
    "    county_wages = wages_df_positive.loc[wages_df_positive['Entity County'] == county]['Total Wages']\n",
    "    county_avg_wages[county] = county_wages.mean()\n",
    "    \n",
    "sorted_counties = sorted(county_avg_wages.items(), key=operator.itemgetter(1))\n",
    "for county in sorted_counties:\n",
    "    print(county,'\\n')"
   ]
  },
  {
   "cell_type": "markdown",
   "metadata": {},
   "source": [
    "Del Norte county has the lowest mean wage at $37,000. Santa Clara has the highest mean wage at $84,000, which is over double that of Del Norte. However, we must take these estimates with a grain of salt because we know the dataset contains many near-zero values. The population in Del Norte County is only 27,000, which is tiny compared to the population of Santa Clara county, almost 2 million. Again, all of the counties around the Bay ARea appear near the top of the list. Bay Area counties include Alameda, Contra Costa, Marin, Napa, San Francisco, San Mateo, Santa Clara, Solano, and Sonoma. Because of the booming tech industry, these counties see not only a high salary, but a high cost of living to match that. <br>\n",
    "\n",
    "Let's see if we can look at the top paid positions."
   ]
  },
  {
   "cell_type": "code",
   "execution_count": 132,
   "metadata": {
    "collapsed": false
   },
   "outputs": [
    {
     "name": "stdout",
     "output_type": "stream",
     "text": [
      "70281\n",
      "9700\n"
     ]
    }
   ],
   "source": [
    "print(len(wages_df['Position'].dropna().unique()))\n",
    "print(len(wages_df['Department / Subdivision'].dropna().unique()))"
   ]
  },
  {
   "cell_type": "markdown",
   "metadata": {},
   "source": [
    "There are too many positions/departments to investigate the average wages for each position or department. Instead, we will print out the positions of the top-paid workers per county. <br>\n",
    "\n"
   ]
  },
  {
   "cell_type": "code",
   "execution_count": 234,
   "metadata": {
    "collapsed": false
   },
   "outputs": [
    {
     "name": "stdout",
     "output_type": "stream",
     "text": [
      "Highest Paid Positions Per County: ['Chief Administrative Officer', 'Administrator IV, Range 1', 'Neurosurgeon-Contract', 'County Administrator', 'President, Range 0', 'President, Range 0', 'Chief Executive Officer', 'President, Range 0', 'City Attorney (EM)', 'Elected Official', 'President, Range 0', 'General Manager', 'Chief Executive Officer/General Manager', 'Chief Executive Officer', 'Chief Executive Officer', 'Santa Clara Valley Health and Hospital System - Chief Executive Officer', 'President, Range 0', 'President, Range 0', 'Director of Transportation', 'Fire Chief', 'Senior Psychiatrist', 'Psychiatrist', 'Exempt Med Stf Physician', 'General Manager/Chief Executive Officer', 'Mental Health Medical Director', 'DirectorHealthHumanSvcsCHO', 'County Administrative Officer', 'Chief of Psychiatry', 'City Manager', 'CEO/CFO', 'Manager General', 'Chief Executive Officer', 'General Manager/Retired', 'Division Chief I/III', 'City Administrator', 'General Manager', 'General Manager', 'Psychiatrist', 'Physician/Surgeon', 'Director DHHS', 'City Manager', 'Chief Of Surgery', 'Chief Executive Officer', 'Senior Staff Psychiatrist', 'Physician', 'Chief Executive Officer', 'General Manager', 'Chief Executive Officer', 'Street and Park Maint', 'Psychiatrist - CONT', 'Director', 'Chief Executive Officer  Benefited', 'Health Officer', 'General Manager', 'Sheriff/Coroner/Public Administration', 'Chief Executive Officer', 'County Administrative Officer', 'General Manager', 'Chief Lab Tech', 'General Manager', 'Psychiatrist II']\n"
     ]
    }
   ],
   "source": [
    "top_positions = []\n",
    "\n",
    "wages_df_dropna = wages_df_positive.dropna(subset = ['Entity County', 'Position','Total Wages'])\n",
    "\n",
    "for county in (wages_df_dropna['Entity County'].unique()):\n",
    "    county_df = wages_df_dropna.loc[wages_df_dropna['Entity County'] == county]\n",
    "    max_wage = county_df.loc[county_df['Total Wages'] == county_df['Total Wages'].max()]['Position'].item()\n",
    "    top_positions.append(max_wage)\n",
    "    \n",
    "print('Highest Paid Positions Per County:', top_positions)"
   ]
  },
  {
   "cell_type": "markdown",
   "metadata": {},
   "source": [
    "Many of the top paid positions are held by Chief Executive Officers, as well as General Managers and high level administrative positions such as Chief Administrative Offier. A few are medical (Chief of Surgery, Psychiatrist, Neurosurgeon, etc.) I am surprised to see Street and Parking Maintenance among the list, as well as a Retired position. I will refrain from analyzing the bottom-paying positions because of the questionable values (some less than one dollar) that might be skewing the minimums."
   ]
  },
  {
   "cell_type": "markdown",
   "metadata": {},
   "source": [
    "There we have it! We can see that wages for government workers differ greatly by county, likely a result of different costs of living, and that for many counties you can expect to earn around $50,000. San Francisco county boasts the highest paid singular worker, while Santa Clara County is the highest on average. Chief executive and administrative positions are among the highest paid positions per county, as well as top medical positions relating to surgery and mental health. Our average and minimum calculations have been somewhat compromised by a dataset with unexplained low values, and further considerations include reaching out to the data author for clarity."
   ]
  }
 ],
 "metadata": {
  "kernelspec": {
   "display_name": "Python 3",
   "language": "python",
   "name": "python3"
  }
 },
 "nbformat": 4,
 "nbformat_minor": 2
}
